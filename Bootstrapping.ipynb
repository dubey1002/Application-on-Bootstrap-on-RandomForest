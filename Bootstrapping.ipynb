{
 "cells": [
  {
   "cell_type": "markdown",
   "metadata": {
    "id": "3sNKZq4XrXQh"
   },
   "source": [
    "# <font color='red'><b>Bootstrap assignment</b> </font>"
   ]
  },
  {
   "cell_type": "markdown",
   "metadata": {
    "id": "RAHap1Z3FZC-"
   },
   "source": [
    "<b>There will be some functions that start with the word \"grader\" ex: grader_sampples(), grader_30().. etc, you should not change those function definition.\n",
    "\n",
    "Every Grader function has to return True.</b>"
   ]
  },
  {
   "cell_type": "markdown",
   "metadata": {
    "id": "cuxBq_bvrwh2"
   },
   "source": [
    "<font color='blue'> <b>Importing packages</b> </font>"
   ]
  },
  {
   "cell_type": "code",
   "execution_count": 26,
   "metadata": {
    "id": "m6ag91ijrQOs"
   },
   "outputs": [],
   "source": [
    "import numpy as np # importing numpy for numerical computation\n",
    "from sklearn.datasets import load_boston # here we are using sklearn's boston dataset\n",
    "from sklearn.metrics import mean_squared_error # importing mean_squared_error metric\n",
    "import random\n",
    "from sklearn.tree import DecisionTreeRegressor"
   ]
  },
  {
   "cell_type": "code",
   "execution_count": 27,
   "metadata": {
    "id": "CcHOsONTt1K_"
   },
   "outputs": [],
   "source": [
    "boston = load_boston()\n",
    "x=boston.data #independent variables\n",
    "y=boston.target #target variable"
   ]
  },
  {
   "cell_type": "code",
   "execution_count": 28,
   "metadata": {
    "colab": {
     "base_uri": "https://localhost:8080/",
     "height": 34
    },
    "id": "pc1htEFYuLRj",
    "outputId": "f5b60712-98b3-4cdc-b629-3546c1e3859c"
   },
   "outputs": [
    {
     "data": {
      "text/plain": [
       "506"
      ]
     },
     "execution_count": 28,
     "metadata": {},
     "output_type": "execute_result"
    }
   ],
   "source": [
    "x.shape\n",
    "len(x)"
   ]
  },
  {
   "cell_type": "code",
   "execution_count": 29,
   "metadata": {
    "colab": {
     "base_uri": "https://localhost:8080/",
     "height": 269
    },
    "id": "kQle3T_wuOa3",
    "outputId": "521c7bdd-5316-48d5-c534-b61d170d2c28"
   },
   "outputs": [
    {
     "data": {
      "text/plain": [
       "array([[6.3200e-03, 1.8000e+01, 2.3100e+00, 0.0000e+00, 5.3800e-01,\n",
       "        6.5750e+00, 6.5200e+01, 4.0900e+00, 1.0000e+00, 2.9600e+02,\n",
       "        1.5300e+01, 3.9690e+02, 4.9800e+00],\n",
       "       [2.7310e-02, 0.0000e+00, 7.0700e+00, 0.0000e+00, 4.6900e-01,\n",
       "        6.4210e+00, 7.8900e+01, 4.9671e+00, 2.0000e+00, 2.4200e+02,\n",
       "        1.7800e+01, 3.9690e+02, 9.1400e+00],\n",
       "       [2.7290e-02, 0.0000e+00, 7.0700e+00, 0.0000e+00, 4.6900e-01,\n",
       "        7.1850e+00, 6.1100e+01, 4.9671e+00, 2.0000e+00, 2.4200e+02,\n",
       "        1.7800e+01, 3.9283e+02, 4.0300e+00],\n",
       "       [3.2370e-02, 0.0000e+00, 2.1800e+00, 0.0000e+00, 4.5800e-01,\n",
       "        6.9980e+00, 4.5800e+01, 6.0622e+00, 3.0000e+00, 2.2200e+02,\n",
       "        1.8700e+01, 3.9463e+02, 2.9400e+00],\n",
       "       [6.9050e-02, 0.0000e+00, 2.1800e+00, 0.0000e+00, 4.5800e-01,\n",
       "        7.1470e+00, 5.4200e+01, 6.0622e+00, 3.0000e+00, 2.2200e+02,\n",
       "        1.8700e+01, 3.9690e+02, 5.3300e+00]])"
      ]
     },
     "execution_count": 29,
     "metadata": {},
     "output_type": "execute_result"
    }
   ],
   "source": [
    "x[:5]"
   ]
  },
  {
   "cell_type": "markdown",
   "metadata": {
    "id": "AEa_HqRZloH4"
   },
   "source": [
    "## <font color='red'><b>Task 1</b></font>"
   ]
  },
  {
   "cell_type": "markdown",
   "metadata": {
    "id": "YQ5q8IxHNRk3"
   },
   "source": [
    "<font color='red'> <b>Step - 1</b></font>"
   ]
  },
  {
   "cell_type": "markdown",
   "metadata": {
    "id": "GJCFCaOzl7Mr"
   },
   "source": [
    "*  <font color='blue'><b>Creating samples</b></font><br>\n",
    "    <b> Randomly create 30 samples from the whole boston data points</b>\n",
    "    *  Creating each sample: Consider any random 303(60% of 506) data points from whole data set and then replicate any 203 points from the sampled points\n",
    "    \n",
    "     For better understanding of this procedure lets check this examples, assume we have 10 data points [1,2,3,4,5,6,7,8,9,10], first we take 6 data points randomly , consider we have selected [4, 5, 7, 8, 9, 3] now we will replicate 4 points from [4, 5, 7, 8, 9, 3], consder they are [5, 8, 3,7] so our final sample will be [4, 5, 7, 8, 9, 3, 5, 8, 3,7]\n",
    "* <font color='blue'><b> Create 30 samples </b></font>\n",
    "    *  Note that as a part of the Bagging when you are taking the random samples <b>make sure each of the sample will have different set of columns</b><br>\n",
    "Ex: Assume we have 10 columns[1 ,2 ,3 ,4 ,5 ,6 ,7 ,8 ,9 ,10] for the first sample we will select [3, 4, 5, 9, 1, 2] and for the second sample  [7, 9, 1, 4, 5, 6, 2] and so on...\n",
    "Make sure each sample will have atleast 3 feautres/columns/attributes\n",
    "\n",
    "* <font color='red'><b> Note - While selecting the random 60% datapoints from the whole data, make sure that the selected datapoints are all exclusive, repetition is not allowed. </b></font>"
   ]
  },
  {
   "cell_type": "markdown",
   "metadata": {
    "id": "zUqFEBSvNjCa"
   },
   "source": [
    "<font color='red'><b>Step - 2 </b></font>"
   ]
  },
  {
   "cell_type": "markdown",
   "metadata": {
    "id": "uqi9AhCYNq3Z"
   },
   "source": [
    "<font color='blue'><b>Building High Variance Models on each of the sample and finding train MSE value</b></font>"
   ]
  },
  {
   "cell_type": "markdown",
   "metadata": {
    "id": "-lLBnZHXOFln"
   },
   "source": [
    "*  Build a regression trees on each of 30 samples.\n",
    "*  Computed the predicted values of each data point(506 data points) in your corpus.\n",
    "*  Predicted house price of $i^{th}$ data point $y^{i}_{pred} =  \\frac{1}{30}\\sum_{k=1}^{30}(\\text{predicted value of } x^{i} \\text{ with } k^{th} \\text{ model})$\n",
    "*  Now calculate the $MSE =  \\frac{1}{506}\\sum_{i=1}^{506}(y^{i} - y^{i}_{pred})^{2}$"
   ]
  },
  {
   "cell_type": "markdown",
   "metadata": {
    "id": "Kls23JLnSN23"
   },
   "source": [
    "<font color='red'> <b>Step - 3 </b></font>"
   ]
  },
  {
   "cell_type": "markdown",
   "metadata": {
    "id": "rz2GchkGSWnh"
   },
   "source": [
    "*  <font color='blue'><b>Calculating the OOB score </b></font>"
   ]
  },
  {
   "cell_type": "markdown",
   "metadata": {
    "id": "DGHkVV2kSibm"
   },
   "source": [
    "*  Predicted house price of $i^{th}$ data point $y^{i}_{pred} =  \\frac{1}{k}\\sum_{\\text{k= model which was buit on samples not included } x^{i}}(\\text{predicted value of } x^{i} \\text{ with } k^{th} \\text{ model})$.\n",
    "*  Now calculate the $OOB Score =  \\frac{1}{506}\\sum_{i=1}^{506}(y^{i} - y^{i}_{pred})^{2}$."
   ]
  },
  {
   "cell_type": "markdown",
   "metadata": {
    "id": "RK860ocxTyoz"
   },
   "source": [
    "# <font color='red'><b>Task 2</b></font>"
   ]
  },
  {
   "cell_type": "markdown",
   "metadata": {
    "id": "1dme-N6TUCrY"
   },
   "source": [
    "*  <font color='blue'><b>Computing CI of OOB Score and Train MSE</b></font>\n",
    "  *   Repeat Task 1 for 35 times, and for each iteration store the Train MSE and OOB score </li>\n",
    "<li> After this we will have 35 Train MSE values and 35 OOB scores </li>\n",
    "<li> using these 35 values (assume like a sample) find the confidence intravels of MSE and OOB Score </li>\n",
    "<li> you need to report CI of MSE and CI of OOB Score </li>\n",
    "<li> Note: Refer the Central_Limit_theorem.ipynb to check how to find the confidence intravel</li>\n",
    "</ol>"
   ]
  },
  {
   "cell_type": "markdown",
   "metadata": {
    "id": "O6UcH1x9Uwrj"
   },
   "source": [
    "# <font color='red'><b>Task 3</b></font>"
   ]
  },
  {
   "cell_type": "markdown",
   "metadata": {
    "id": "bOC_AgsLU7OH"
   },
   "source": [
    "*  <font color='blue'><b>Given a single query point predict the price of house.</b></font>"
   ]
  },
  {
   "cell_type": "markdown",
   "metadata": {
    "id": "HYs5jSFdVILe"
   },
   "source": [
    "Consider xq= [0.18,20.0,5.00,0.0,0.421,5.60,72.2,7.95,7.0,30.0,19.1,372.13,18.60] \n",
    "Predict the house price for this point as mentioned in the step 2 of Task 1."
   ]
  },
  {
   "cell_type": "markdown",
   "metadata": {
    "id": "u6rShd89t552"
   },
   "source": [
    "## <font color='red'><b>A few key points</b></font>"
   ]
  },
  {
   "cell_type": "markdown",
   "metadata": {
    "id": "XdgTUXTouHEd"
   },
   "source": [
    "* Remember that the datapoints used for calculating MSE score contain some datapoints that were initially used while training the base learners (the 60% sampling). This makes these datapoints partially seen (i.e. the datapoints used for calculating the MSE score are a mixture of seen and unseen data).\n",
    "Whereas, the datapoints used for calculating OOB score have only the unseen data. This makes these datapoints completely unseen and therefore appropriate for testing the model's performance on unseen data.\n",
    "\n",
    "* Given the information above, if your logic is correct, the calculated MSE score should be less than the OOB score.\n",
    "\n",
    "* The MSE score must lie between 0 and 10.\n",
    "* The OOB score must lie between 10 and 35.\n",
    "\n",
    "* The difference between the left nad right confidence-interval values must not be more than 10. Make sure this is true for both MSE and OOB confidence-interval values."
   ]
  },
  {
   "cell_type": "markdown",
   "metadata": {
    "id": "V2fHTdS_zpgG"
   },
   "source": [
    "# <font color='blue'> <b>Task - 1</b></font>"
   ]
  },
  {
   "cell_type": "markdown",
   "metadata": {
    "id": "e0yGBuryOwHz"
   },
   "source": [
    "<font color='blue'><b>Step - 1</b></font>"
   ]
  },
  {
   "cell_type": "markdown",
   "metadata": {
    "id": "lJXX8vf3z073"
   },
   "source": [
    "*  <font color='blue'> <b>Creating samples</b></font>"
   ]
  },
  {
   "cell_type": "markdown",
   "metadata": {
    "id": "CSVaWG1F4uCZ"
   },
   "source": [
    "<font color='Orange'><b>Algorithm</b></font>\n",
    "\n",
    "![alt text](https://i.imgur.com/OfcFrUP.jpg/)"
   ]
  },
  {
   "cell_type": "markdown",
   "metadata": {
    "id": "f_oWoN97BhDY"
   },
   "source": [
    "*  <font color='blue'><b> Write code for generating samples</b></font>"
   ]
  },
  {
   "cell_type": "code",
   "execution_count": 30,
   "metadata": {
    "id": "Ph_6D2SDzz7F"
   },
   "outputs": [],
   "source": [
    "def generating_samples(input_data, target_data):\n",
    "\n",
    "    '''In this function, we will write code for generating 30 samples '''\n",
    "    #selecting 303 rows indices\n",
    "    selected_rows = np.random.choice(len(input_data), 303,replace=False)\n",
    "    \n",
    "    #extracting 206 random row indices from selected_rows\n",
    "    replacing_203_rows = np.random.choice(selected_rows, 203, replace=False)\n",
    "    \n",
    "    #select random columns random.sample(range of numbers,how many numbers)\n",
    "    selected_columns = np.array(random.sample(range(0,13),random.randint(3,13)))\n",
    "    \n",
    "    \n",
    "    #creating sample data \n",
    "    sampled_data = input_data[selected_rows[:, None], selected_columns]\n",
    "    \n",
    "    #Target variable of sampled data\n",
    "    target_data_of_sample = target_data[selected_rows]\n",
    "    \n",
    "    #raplicated data points\n",
    "    raplicated_sample_data = input_data[replacing_203_rows[:, None], selected_columns ]\n",
    "    \n",
    "    #target of raplicated data points\n",
    "    target_of_raplicating_sampled_data = target_data[replacing_203_rows]\n",
    "\n",
    "    #final sample data points\n",
    "    final_sample_data = np.vstack((sampled_data, raplicated_sample_data  ))\n",
    "  \n",
    "    #final target data \n",
    "    final_target_data = np.vstack((target_data_of_sample.reshape(-1, 1), target_of_raplicating_sampled_data.reshape(-1, 1) ))\n",
    "    \n",
    "    return final_sample_data,final_target_data,selected_rows,selected_columns"
   ]
  },
  {
   "cell_type": "markdown",
   "metadata": {
    "id": "MivEQFlm7iOg"
   },
   "source": [
    "<font color='cyan'> <b> Grader function - 1 </b> </fongt>"
   ]
  },
  {
   "cell_type": "code",
   "execution_count": 31,
   "metadata": {
    "id": "AVvuhNzm7uld"
   },
   "outputs": [
    {
     "name": "stdout",
     "output_type": "stream",
     "text": [
      "(506, 7) (506, 1) (303,) (7,)\n",
      "True\n",
      "True\n",
      "True\n",
      "True\n"
     ]
    },
    {
     "data": {
      "text/plain": [
       "True"
      ]
     },
     "execution_count": 31,
     "metadata": {},
     "output_type": "execute_result"
    }
   ],
   "source": [
    "def grader_samples(a,b,c,d):\n",
    "    length = (len(a)==506  and len(b)==506)\n",
    "    print(length)\n",
    "    sampled = (len(a)-len(set([str(i) for i in a]))==203)\n",
    "    print(sampled)\n",
    "    rows_length = (len(c)==303)\n",
    "    print(rows_length)\n",
    "    column_length= (len(d)>=3)\n",
    "    print(column_length)\n",
    "    assert(length and sampled and rows_length and column_length)\n",
    "    return True\n",
    "a,b,c,d = generating_samples(x, y)\n",
    "print(a.shape,b.shape,c.shape,d.shape)\n",
    "grader_samples(a,b,c,d)"
   ]
  },
  {
   "cell_type": "markdown",
   "metadata": {
    "id": "b4LSsmn4Jn2_"
   },
   "source": [
    "*  <font color='blue'> <b>Create 30 samples </b>"
   ]
  },
  {
   "cell_type": "markdown",
   "metadata": {
    "id": "3ec7MN6sL2BZ"
   },
   "source": [
    "![alt text](https://i.imgur.com/p8eZaWL.jpg)"
   ]
  },
  {
   "cell_type": "code",
   "execution_count": 32,
   "metadata": {
    "id": "XXlKWjCcBvTk"
   },
   "outputs": [],
   "source": [
    "# Use generating_samples function to create 30 samples \n",
    "# store these created samples in a list\n",
    "list_input_data =[]\n",
    "list_output_data =[]\n",
    "list_selected_row= []\n",
    "list_selected_columns=[]\n",
    "\n",
    "for i in range (0, 30):\n",
    "    a, b, c, d = generating_samples(x, y)\n",
    "    list_input_data.append(a)\n",
    "    list_output_data.append(b)\n",
    "    list_selected_row.append(c)\n",
    "    list_selected_columns.append(d)"
   ]
  },
  {
   "cell_type": "markdown",
   "metadata": {
    "id": "MXUz9VFiMQkh"
   },
   "source": [
    "<font color='cyan'> <b>Grader function - 2 </b></font>"
   ]
  },
  {
   "cell_type": "code",
   "execution_count": 33,
   "metadata": {
    "id": "hCvIq8NuMWOC"
   },
   "outputs": [
    {
     "data": {
      "text/plain": [
       "True"
      ]
     },
     "execution_count": 33,
     "metadata": {},
     "output_type": "execute_result"
    }
   ],
   "source": [
    "def grader_30(a):\n",
    "    assert(len(a)==30 and len(a[0])==506)\n",
    "    return True\n",
    "grader_30(list_input_data)"
   ]
  },
  {
   "cell_type": "markdown",
   "metadata": {
    "id": "7Pv-mkZkO6dh"
   },
   "source": [
    "<br>"
   ]
  },
  {
   "cell_type": "markdown",
   "metadata": {
    "id": "whaHCPB0O8qF"
   },
   "source": [
    "<font color='red'><b>Step - 2 </b></font>"
   ]
  },
  {
   "cell_type": "markdown",
   "metadata": {
    "id": "XBy4zXSWPtU8"
   },
   "source": [
    "<font color='orange'><b>Flowchart for building tree</b></font>"
   ]
  },
  {
   "cell_type": "markdown",
   "metadata": {
    "id": "5xvH06HPQBdP"
   },
   "source": [
    "![alt text](https://i.imgur.com/pcXfSmp.png)"
   ]
  },
  {
   "cell_type": "markdown",
   "metadata": {
    "id": "WRwPO_uHQjul"
   },
   "source": [
    "*  <font color='blue'><b> Write code for building regression trees</b></font>"
   ]
  },
  {
   "cell_type": "code",
   "execution_count": 34,
   "metadata": {
    "id": "YWQp6tRwMthq"
   },
   "outputs": [],
   "source": [
    "list_of_all_models_decision_tree = []\n",
    "for i in range(0, 30):\n",
    "    clf_at_i= DecisionTreeRegressor(max_depth=None)\n",
    "    clf_at_i.fit(list_input_data[i], list_output_data[i])\n",
    "    list_of_all_models_decision_tree.append(clf_at_i)"
   ]
  },
  {
   "cell_type": "markdown",
   "metadata": {
    "id": "21j8BKfAQ1U8"
   },
   "source": [
    "<font color='orange'><b>Flowchart for calculating MSE </b></font>"
   ]
  },
  {
   "cell_type": "markdown",
   "metadata": {
    "id": "8Q0mTBD2RBx_"
   },
   "source": [
    "![alt text](https://i.imgur.com/sPEE618.png)"
   ]
  },
  {
   "cell_type": "markdown",
   "metadata": {
    "id": "6e-UamlHRjPy"
   },
   "source": [
    "After getting predicted_y for each data point, we can use sklearns mean_squared_error to calculate the MSE between predicted_y and actual_y."
   ]
  },
  {
   "cell_type": "markdown",
   "metadata": {
    "id": "TnIMT7_oR312"
   },
   "source": [
    "*  <font color='blue'><b> Write code for calculating MSE</b></font>"
   ]
  },
  {
   "cell_type": "code",
   "execution_count": 35,
   "metadata": {
    "id": "qWhcvMRWRA9b"
   },
   "outputs": [
    {
     "name": "stdout",
     "output_type": "stream",
     "text": [
      "(506,)\n",
      "MSE :  0.04214811155028546\n"
     ]
    }
   ],
   "source": [
    "from sklearn.metrics import mean_squared_error\n",
    "from statistics import median\n",
    "\n",
    "predicted_array_of_target_y = []\n",
    "\n",
    "for i in range(0, 30):\n",
    "    data_point_i = x[:, list_selected_columns[i]]\n",
    "    target_y_i = list_of_all_models_decision_tree[i].predict(data_point_i)\n",
    "    predicted_array_of_target_y.append(target_y_i)\n",
    "\n",
    "predicted_array_of_target_y = np.array(predicted_array_of_target_y)\n",
    "predicted_array_of_target_y = predicted_array_of_target_y.transpose()\n",
    "median_predicted_y = np.median(predicted_array_of_target_y, axis=1)\n",
    "print(median_predicted_y.shape)\n",
    "\n",
    "print(\"MSE : \", mean_squared_error(y, median_predicted_y ))\n"
   ]
  },
  {
   "cell_type": "markdown",
   "metadata": {
    "id": "RuclPDMnSz8F"
   },
   "source": [
    "<font color='blue'><b>Step - 3 </b></font>"
   ]
  },
  {
   "cell_type": "markdown",
   "metadata": {
    "id": "ESb9FSIDTM5V"
   },
   "source": [
    "<font color='orange'><b>Flowchart for calculating OOB score</b></font>"
   ]
  },
  {
   "cell_type": "markdown",
   "metadata": {
    "id": "HB-d6NMETbd9"
   },
   "source": [
    "![alt text](https://i.imgur.com/95S5Mtm.png)"
   ]
  },
  {
   "cell_type": "markdown",
   "metadata": {
    "id": "WW3GOcFzTqbt"
   },
   "source": [
    "Now calculate the $OOB Score =  \\frac{1}{506}\\sum_{i=1}^{506}(y^{i} - y^{i}_{pred})^{2}$."
   ]
  },
  {
   "cell_type": "markdown",
   "metadata": {
    "id": "zBqcS03pUYSZ"
   },
   "source": [
    "*  <font color='blue'><b> Write code for calculating OOB score </b></font>"
   ]
  },
  {
   "cell_type": "code",
   "execution_count": 36,
   "metadata": {
    "id": "Fog_6DNdS-h_"
   },
   "outputs": [
    {
     "name": "stdout",
     "output_type": "stream",
     "text": [
      "Final OOB Score is  17.060756016688632\n"
     ]
    }
   ],
   "source": [
    "\n",
    "oob_median_list_y_pred = []\n",
    "\n",
    "#for each of the datapoint\n",
    "for i in range(0, len(x)):\n",
    "    \n",
    "    #finding set of all oob models\n",
    "    oob_model_indexes = []\n",
    "    for index in range(0, 30):\n",
    "        if i not in list_selected_row[index]:\n",
    "            oob_model_indexes.append(index)\n",
    "\n",
    "    oob_list_y_pred = []\n",
    "    \n",
    "    #apply each oob model to datapoint and storing predictions from all models\n",
    "    for oob_model_index in oob_model_indexes:\n",
    "        oob_model = list_of_all_models_decision_tree[oob_model_index]\n",
    "        oob_row = x[i]\n",
    "        x_oob_data_point = [oob_row[columns] for columns in list_selected_columns[oob_model_index] ]\n",
    "        x_oob_data_point = np.array(x_oob_data_point).reshape(1, -1)\n",
    "        y_pred_oob_data_point = oob_model.predict(x_oob_data_point)\n",
    "        oob_list_y_pred.append(y_pred_oob_data_point)\n",
    "    \n",
    "    #finding median for set of all outputs\n",
    "    oob_list_y_pred = np.array(oob_list_y_pred)\n",
    "    y_predicted_median = np.median(oob_list_y_pred)\n",
    "    oob_median_list_y_pred.append(y_predicted_median)\n",
    "\n",
    "#finding oob score\n",
    "oob_score = 0\n",
    "for i in range(0, len(x)):\n",
    "    oob_score += ((y[i] - oob_median_list_y_pred[i] ) ** 2)\n",
    "\n",
    "print(\"Final OOB Score is \", oob_score/506)   \n",
    "  "
   ]
  },
  {
   "cell_type": "markdown",
   "metadata": {
    "id": "sbuiwX3OUjUI"
   },
   "source": [
    "# <font color='blue'><b>Task 2</b></font>"
   ]
  },
  {
   "cell_type": "code",
   "execution_count": 37,
   "metadata": {
    "id": "ceW5-D88Uswi"
   },
   "outputs": [],
   "source": [
    "\n",
    "#Creating function to get MSE and OOB at each iteration in 35 iterations\n",
    "\n",
    "def mse_and_oob(x, y):\n",
    "    list_input_data =[]\n",
    "    list_output_data =[]\n",
    "    list_selected_row= []\n",
    "    list_selected_columns=[]\n",
    "    for i in range (0, 30):\n",
    "        a, b, c, d = generating_samples(x, y)\n",
    "        list_input_data.append(a)\n",
    "        list_output_data.append(b)\n",
    "        list_selected_row.append(c)\n",
    "        list_selected_columns.append(d)\n",
    "        \n",
    "    list_of_all_models_decision_tree = []\n",
    "    for i in range(0, 30):\n",
    "        model_i = DecisionTreeRegressor(max_depth=None)\n",
    "        model_i.fit(list_input_data[i], list_output_data[i])\n",
    "        list_of_all_models_decision_tree.append(model_i)\n",
    "    \n",
    "    predicted_array_of_target_y = []\n",
    "    for i in range(0, 30):\n",
    "        data_point_i = x[:, list_selected_columns[i]]\n",
    "        target_y_i = list_of_all_models_decision_tree[i].predict(data_point_i)\n",
    "        predicted_array_of_target_y.append(target_y_i)\n",
    "\n",
    "    predicted_array_of_target_y = np.array(predicted_array_of_target_y)\n",
    "    predicted_array_of_target_y = predicted_array_of_target_y.transpose()\n",
    "    median_predicted_y = np.median(predicted_array_of_target_y, axis=1)\n",
    "    \n",
    "    MSE = mean_squared_error(y, median_predicted_y )\n",
    "     \n",
    "    oob_median_list_y_pred = []\n",
    "\n",
    "    #for each of the datapoint\n",
    "    for i in range(0, len(x)):\n",
    "    \n",
    "        #finding set of all oob models\n",
    "        oob_model_indexes = []\n",
    "        for index in range(0, 30):\n",
    "            if i not in list_selected_row[index]:\n",
    "                oob_model_indexes.append(index)\n",
    "\n",
    "        oob_list_y_pred = []\n",
    "    \n",
    "        #apply each oob model to datapoint and storing predictions from all models\n",
    "        for oob_model_index in oob_model_indexes:\n",
    "            oob_model = list_of_all_models_decision_tree[oob_model_index]\n",
    "            oob_row = x[i]\n",
    "            x_oob_data_point = [oob_row[columns] for columns in list_selected_columns[oob_model_index] ]\n",
    "            x_oob_data_point = np.array(x_oob_data_point).reshape(1, -1)\n",
    "            y_pred_oob_data_point = oob_model.predict(x_oob_data_point)\n",
    "            oob_list_y_pred.append(y_pred_oob_data_point)\n",
    "    \n",
    "        #finding median for set of all outputs\n",
    "        oob_list_y_pred = np.array(oob_list_y_pred)\n",
    "        y_predicted_median = np.median(oob_list_y_pred)\n",
    "        oob_median_list_y_pred.append(y_predicted_median)\n",
    "\n",
    "    #finding oob score\n",
    "    oob_score = 0\n",
    "    for i in range(0, len(x)):\n",
    "        oob_score += ((y[i] - oob_median_list_y_pred[i] ) ** 2)\n",
    "\n",
    "    final_oob_score = oob_score/506\n",
    "    return MSE, final_oob_score\n",
    "\n"
   ]
  },
  {
   "cell_type": "code",
   "execution_count": 38,
   "metadata": {},
   "outputs": [
    {
     "name": "stdout",
     "output_type": "stream",
     "text": [
      "Confidence Interval for MSE : (0.07451570176624923, 0.12167237324664691)\n",
      "Confidence Interval for OOB :  (13.943473908386858, 15.258006711688767)\n",
      "True\n",
      "True\n"
     ]
    }
   ],
   "source": [
    "\n",
    "import scipy\n",
    "\n",
    "mse_list= []\n",
    "oob_list = []\n",
    "\n",
    "for i in range(0, 35):\n",
    "    mse, oob_score = mse_and_oob(x, y)\n",
    "    mse_list.append(mse)\n",
    "    oob_list.append(oob_score)\n",
    "\n",
    "mse_list= np.array(mse_list)\n",
    "oob_list = np.array(oob_list)\n",
    "\n",
    "confidence_level = 0.95\n",
    "degrees_of_freedom = 34\n",
    "\n",
    "mean_mse = np.mean(mse_list)\n",
    "mse_standard_error = scipy.stats.sem(mse_list)\n",
    "\n",
    "CI_for_MSE = scipy.stats.t.interval(confidence_level, degrees_of_freedom, mean_mse, mse_standard_error)\n",
    "print(\"Confidence Interval for MSE :\", CI_for_MSE)\n",
    "\n",
    "\n",
    "mean_oob_score = np.mean(oob_list)\n",
    "oob_standard_error = scipy.stats.sem(oob_list)\n",
    "\n",
    "CI_for_OOB = scipy.stats.t.interval(confidence_level, degrees_of_freedom, mean_oob_score, oob_standard_error )\n",
    "print(\"Confidence Interval for OOB : \", CI_for_OOB)\n",
    "\n",
    "def check_CI_Difference(CI):\n",
    "    confidence_interval = list(CI)\n",
    "    if((confidence_interval[1]-confidence_interval[0])<10):\n",
    "        return True\n",
    "    else:\n",
    "        return False\n",
    "print(check_CI_Difference(CI_for_MSE))\n",
    "print(check_CI_Difference(CI_for_OOB))"
   ]
  },
  {
   "cell_type": "markdown",
   "metadata": {
    "id": "jKTnJdiBVS_e"
   },
   "source": [
    "# <font color='blue'><b>Task 3</b></font>"
   ]
  },
  {
   "cell_type": "markdown",
   "metadata": {
    "id": "eXxrvZqHV1Fr"
   },
   "source": [
    "<font color='orange'><b>Flowchart for Task 3</b></font>"
   ]
  },
  {
   "cell_type": "markdown",
   "metadata": {
    "id": "NyjwEJ62V6a6"
   },
   "source": [
    "<b>Hint: </b> We created 30 models by using 30 samples in TASK-1. Here, we need send query point \"xq\"  to 30 models and perform the regression on the output generated by 30 models."
   ]
  },
  {
   "cell_type": "markdown",
   "metadata": {
    "id": "0emSwLL7VurD"
   },
   "source": [
    "![alt text](https://i.imgur.com/Y5cNhQk.png)"
   ]
  },
  {
   "cell_type": "markdown",
   "metadata": {
    "id": "29hjwKlWWDfo"
   },
   "source": [
    "*  <font color='blue'><b> Write code for TASK 3 </b></font>"
   ]
  },
  {
   "cell_type": "code",
   "execution_count": 39,
   "metadata": {
    "id": "i_pUlSD-VYD1"
   },
   "outputs": [
    {
     "name": "stdout",
     "output_type": "stream",
     "text": [
      "Predicted House Price is : 19.5\n"
     ]
    }
   ],
   "source": [
    "x_q = [0.18,20.0,5.00,0.0,0.421,5.60,72.2,7.95,7.0,30.0,19.1,372.13,18.60]\n",
    "y_predicted_list_from_all_models= []\n",
    "\n",
    "for i in range(0, 30):\n",
    "    model_i = list_of_all_models_decision_tree[i]\n",
    "    datapoint_x = [x_q[column] for column in list_selected_columns[i]]\n",
    "    datapoint_x = np.array(datapoint_x).reshape(1, -1)\n",
    "    y_pred= model_i.predict(datapoint_x)\n",
    "    y_predicted_list_from_all_models.append(y_pred)\n",
    "    \n",
    "y_predicted_list_from_all_models = np.array(y_predicted_list_from_all_models)\n",
    "print(\"Predicted House Price is :\", np.median(y_predicted_list_from_all_models))"
   ]
  },
  {
   "cell_type": "markdown",
   "metadata": {
    "id": "DJHTGEZgWJjR"
   },
   "source": [
    "<br><br><br>"
   ]
  },
  {
   "cell_type": "markdown",
   "metadata": {
    "id": "AIcax45hWKT-"
   },
   "source": [
    "<h1>Observations : <h1>"
   ]
  },
  {
   "cell_type": "markdown",
   "metadata": {},
   "source": [
    "<p>1.From task 1 we are creating 30 bootrap samples and training model on each of samples.We are predicting\n",
    "value of output variable by taking average of models trained in samples.<br>\n",
    "2.Mean Squared Error we are ge<br>\n",
    "3.We are taking out of bag points and predicting these points from model which was not part of training that model<br>\n",
    "4.In task 2 we are calculating confidence intervals for MSE and OOB.There is 95% chance that population mean of MSE would lie in between ((0.08670043613395884, 0.17827558632506496)) and OOB lie between (13.500231977108118, 14.638141199032969)\n",
    "    \n"
   ]
  }
 ],
 "metadata": {
  "colab": {
   "collapsed_sections": [],
   "name": "Bootstrap_assignment.ipynb",
   "provenance": []
  },
  "kernelspec": {
   "display_name": "Python 3 (ipykernel)",
   "language": "python",
   "name": "python3"
  },
  "language_info": {
   "codemirror_mode": {
    "name": "ipython",
    "version": 3
   },
   "file_extension": ".py",
   "mimetype": "text/x-python",
   "name": "python",
   "nbconvert_exporter": "python",
   "pygments_lexer": "ipython3",
   "version": "3.9.7"
  }
 },
 "nbformat": 4,
 "nbformat_minor": 1
}
